{
 "cells": [
  {
   "cell_type": "code",
   "execution_count": 13,
   "id": "f8f7a28e",
   "metadata": {},
   "outputs": [],
   "source": [
    "import numpy as np"
   ]
  },
  {
   "cell_type": "code",
   "execution_count": 14,
   "id": "6b983ffa",
   "metadata": {},
   "outputs": [],
   "source": [
    "#Variable Parameters\n",
    "#sec\n",
    "t_decel_disk = 2/30\n",
    "t_decel_arm = 2/30 \n"
   ]
  },
  {
   "cell_type": "code",
   "execution_count": 15,
   "id": "1ba32a62",
   "metadata": {},
   "outputs": [],
   "source": [
    "#Design Characteristics\n",
    "#meters\n",
    "r_disk = 75 * 10**(-3)\n",
    "r_arm = 220 * 10**(-3)\n",
    "\n",
    "#kg*m^2\n",
    "I_disk = 1707546.13 * 10**(-9)\n",
    "I_arm = 78970779.493 * 10**(-9)\n",
    "\n",
    "#rad/sec\n",
    "w_disk = 1609\n",
    "w_arm = 28\n"
   ]
  },
  {
   "cell_type": "code",
   "execution_count": 18,
   "id": "54b2300b",
   "metadata": {},
   "outputs": [
    {
     "name": "stdout",
     "output_type": "stream",
     "text": [
      "Max Dynamic Torque to Resolve: 195.26678905409003\n"
     ]
    }
   ],
   "source": [
    "#Calculation\n",
    "\n",
    "#disk\n",
    "T_on_disk_axis = I_disk * (w_disk/t_decel_disk)\n",
    "F_disk_tip = T_on_disk_axis/r_disk\n",
    "\n",
    "T_from_disk = (r_arm + r_disk)*F_disk_tip\n",
    "\n",
    "#arm\n",
    "T_from_arm = I_arm * (w_arm/t_decel_arm)\n",
    "\n",
    "#final\n",
    "T_total = T_from_disk + T_from_arm\n",
    "\n",
    "print(\"Max Dynamic Torque to Resolve:\", T_total)"
   ]
  },
  {
   "cell_type": "code",
   "execution_count": null,
   "id": "2d5e2e46",
   "metadata": {},
   "outputs": [],
   "source": []
  }
 ],
 "metadata": {
  "kernelspec": {
   "display_name": "Python 3 (ipykernel)",
   "language": "python",
   "name": "python3"
  },
  "language_info": {
   "codemirror_mode": {
    "name": "ipython",
    "version": 3
   },
   "file_extension": ".py",
   "mimetype": "text/x-python",
   "name": "python",
   "nbconvert_exporter": "python",
   "pygments_lexer": "ipython3",
   "version": "3.10.5"
  }
 },
 "nbformat": 4,
 "nbformat_minor": 5
}
